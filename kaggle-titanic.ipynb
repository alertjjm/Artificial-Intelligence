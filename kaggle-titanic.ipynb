{
 "cells": [
  {
   "cell_type": "code",
   "execution_count": 1,
   "metadata": {
    "_cell_guid": "b1076dfc-b9ad-4769-8c92-a6c4dae69d19",
    "_uuid": "8f2839f25d086af736a60e9eeb907d3b93b6e0e5"
   },
   "outputs": [
    {
     "name": "stdout",
     "output_type": "stream",
     "text": [
      "['test.csv', 'train.csv', 'gender_submission.csv']\n",
      "<class 'pandas.core.frame.DataFrame'>\n",
      "RangeIndex: 418 entries, 0 to 417\n",
      "Data columns (total 11 columns):\n",
      "PassengerId    418 non-null int64\n",
      "Pclass         418 non-null int64\n",
      "Name           418 non-null object\n",
      "Sex            418 non-null object\n",
      "Age            332 non-null float64\n",
      "SibSp          418 non-null int64\n",
      "Parch          418 non-null int64\n",
      "Ticket         418 non-null object\n",
      "Fare           417 non-null float64\n",
      "Cabin          91 non-null object\n",
      "Embarked       418 non-null object\n",
      "dtypes: float64(2), int64(4), object(5)\n",
      "memory usage: 36.0+ KB\n"
     ]
    }
   ],
   "source": [
    "# This Python 3 environment comes with many helpful analytics libraries installed\n",
    "# It is defined by the kaggle/python docker image: https://github.com/kaggle/docker-python\n",
    "# For example, here's several helpful packages to load in \n",
    "\n",
    "import numpy as np # linear algebra\n",
    "import pandas as pd # data processing, CSV file I/O (e.g. pd.read_csv)\n",
    "\n",
    "# Input data files are available in the \"../input/\" directory.\n",
    "# For example, running this (by clicking run or pressing Shift+Enter) will list the files in the input directory\n",
    "\n",
    "import os\n",
    "print(os.listdir(\"../input\"))\n",
    "\n",
    "# Any results you write to the current directory are saved as output.\n",
    "# This Python 3 environment comes with many helpful analytics libraries installed\n",
    "# It is defined by the kaggle/python docker image: https://github.com/kaggle/docker-python\n",
    "# For example, here's several helpful packages to load in \n",
    "train=pd.read_csv('../input/train.csv')\n",
    "test=pd.read_csv('../input/test.csv')\n",
    "gender=pd.read_csv('../input/gender_submission.csv')\n",
    "test.info()"
   ]
  },
  {
   "cell_type": "code",
   "execution_count": 2,
   "metadata": {},
   "outputs": [
    {
     "name": "stdout",
     "output_type": "stream",
     "text": [
      "<class 'pandas.core.frame.DataFrame'>\n",
      "Int64Index: 714 entries, 0 to 890\n",
      "Data columns (total 12 columns):\n",
      "PassengerId    714 non-null int64\n",
      "Survived       714 non-null int64\n",
      "Pclass         714 non-null int64\n",
      "Age            714 non-null float64\n",
      "SibSp          714 non-null int64\n",
      "Parch          714 non-null int64\n",
      "Fare           714 non-null float64\n",
      "Embarked_C     714 non-null bool\n",
      "Embarked_S     714 non-null bool\n",
      "Embarked_Q     714 non-null bool\n",
      "male           714 non-null bool\n",
      "female         714 non-null bool\n",
      "dtypes: bool(5), float64(2), int64(5)\n",
      "memory usage: 48.1 KB\n"
     ]
    }
   ],
   "source": [
    "train=train.drop(['Name','Ticket','Cabin'],axis=1)\n",
    "train[\"Embarked_C\"] = train[\"Embarked\"] == \"C\"\n",
    "train[\"Embarked_S\"] = train[\"Embarked\"] == \"S\"\n",
    "train[\"Embarked_Q\"] = train[\"Embarked\"] == \"Q\"\n",
    "\n",
    "train[\"male\"] = train[\"Sex\"] == \"male\"\n",
    "train[\"female\"] = train[\"Sex\"] == \"female\"\n",
    "train=train.drop(['Embarked','Sex'],axis=1)\n",
    "train=train.dropna(axis=0)\n",
    "train.head()\n",
    "train.info()"
   ]
  },
  {
   "cell_type": "code",
   "execution_count": 3,
   "metadata": {},
   "outputs": [
    {
     "data": {
      "text/plain": [
       "PassengerId     0\n",
       "Pclass          0\n",
       "Age            86\n",
       "SibSp           0\n",
       "Parch           0\n",
       "Fare            1\n",
       "TT              0\n",
       "Embarked_C      0\n",
       "Embarked_S      0\n",
       "Embarked_Q      0\n",
       "male            0\n",
       "female          0\n",
       "dtype: int64"
      ]
     },
     "execution_count": 3,
     "metadata": {},
     "output_type": "execute_result"
    }
   ],
   "source": [
    "test['TT']=test['Name'].str.extract(' ([A-Za-z]+)\\.',expand=False)\n",
    "test=test.drop(['Name'],axis=1)\n",
    "test[\"Embarked_C\"] = test[\"Embarked\"] == \"C\"\n",
    "test[\"Embarked_S\"] = test[\"Embarked\"] == \"S\"\n",
    "test[\"Embarked_Q\"] = test[\"Embarked\"] == \"Q\"\n",
    "\n",
    "test[\"male\"] = test[\"Sex\"] == \"male\"\n",
    "test[\"female\"] = test[\"Sex\"] == \"female\"\n",
    "test=test.drop(['Embarked','Sex'],axis=1)\n",
    "test=test.drop(['Cabin','Ticket'],axis=1)\n",
    "\n",
    "TT_mapping={\"Mr\":0,\"Miss\":1,\"Mrs\":2,\"Master\":3,\"Dr\":0,\"Rev\":3,\"Col:\":3,\"Major\":3,\"Mlle\":3,\"Countess\":3,\"Ms\":3,\"Lady\":1,\"Jonkheer\":3,\"Don\":3,\"Mme\":1,\"Capt\":0,\"Sir\":0}\n",
    "test[\"TT\"]=test[\"TT\"].map(TT_mapping)\n",
    "test[\"TT\"]=test[\"TT\"].fillna(3)\n",
    "test[\"TT\"].astype(int)\n",
    "test.isnull().sum()"
   ]
  },
  {
   "cell_type": "code",
   "execution_count": 4,
   "metadata": {},
   "outputs": [
    {
     "name": "stdout",
     "output_type": "stream",
     "text": [
      "<class 'pandas.core.frame.DataFrame'>\n",
      "RangeIndex: 418 entries, 0 to 417\n",
      "Data columns (total 11 columns):\n",
      "PassengerId    418 non-null int64\n",
      "Pclass         418 non-null int64\n",
      "Age            418 non-null float64\n",
      "SibSp          418 non-null int64\n",
      "Parch          418 non-null int64\n",
      "Fare           418 non-null float64\n",
      "Embarked_C     418 non-null bool\n",
      "Embarked_S     418 non-null bool\n",
      "Embarked_Q     418 non-null bool\n",
      "male           418 non-null bool\n",
      "female         418 non-null bool\n",
      "dtypes: bool(5), float64(2), int64(4)\n",
      "memory usage: 21.7 KB\n"
     ]
    }
   ],
   "source": [
    "test['Age'].fillna(test.groupby('TT')[\"Age\"].transform('median'),inplace=True)\n",
    "test['Fare'].fillna(test.groupby('TT')['Fare'].transform('median'),inplace=True)\n",
    "test=test.drop([\"TT\"],axis=1)\n",
    "test.info()"
   ]
  },
  {
   "cell_type": "code",
   "execution_count": 5,
   "metadata": {
    "_cell_guid": "79c7e3d0-c299-4dcb-8224-4455121ee9b0",
    "_uuid": "d629ff2d2480ee46fbb7e2d37f6b5fab8052498a"
   },
   "outputs": [],
   "source": [
    "from sklearn.model_selection import train_test_split\n",
    "X_train, X_test,y_train,y_test=train_test_split(train[['Pclass','Age','SibSp','Parch','Fare','Embarked_C','Embarked_S','Embarked_Q','male','female']],train[['Survived']],test_size=0.1,random_state=7)\n"
   ]
  },
  {
   "cell_type": "code",
   "execution_count": 6,
   "metadata": {},
   "outputs": [
    {
     "name": "stdout",
     "output_type": "stream",
     "text": [
      "Score: 0.8613707165109035\n"
     ]
    }
   ],
   "source": [
    "from sklearn.tree import DecisionTreeClassifier\n",
    "tree_clf = DecisionTreeClassifier(max_depth = 5, random_state = 7)\n",
    "tree_clf.fit(X_train, y_train)\n",
    "print('Score: {}'.format(tree_clf.score(X_train, y_train)))"
   ]
  },
  {
   "cell_type": "code",
   "execution_count": 7,
   "metadata": {},
   "outputs": [],
   "source": [
    "test_one=test.drop([\"PassengerId\"],axis=1)\n",
    "prediction=tree_clf.predict(test_one)\n",
    "submission=pd.DataFrame({\n",
    "    \"PassengerId\":test['PassengerId']\n",
    "})\n",
    "submission[\"Survived\"]=prediction\n",
    "submission.to_csv('submission.csv',index=False)"
   ]
  }
 ],
 "metadata": {
  "kernelspec": {
   "display_name": "Python 3",
   "language": "python",
   "name": "python3"
  },
  "language_info": {
   "codemirror_mode": {
    "name": "ipython",
    "version": 3
   },
   "file_extension": ".py",
   "mimetype": "text/x-python",
   "name": "python",
   "nbconvert_exporter": "python",
   "pygments_lexer": "ipython3",
   "version": "3.6.4"
  }
 },
 "nbformat": 4,
 "nbformat_minor": 1
}
